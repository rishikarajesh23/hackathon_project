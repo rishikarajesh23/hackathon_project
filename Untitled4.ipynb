{
  "nbformat": 4,
  "nbformat_minor": 0,
  "metadata": {
    "colab": {
      "provenance": []
    },
    "kernelspec": {
      "name": "python3",
      "display_name": "Python 3"
    },
    "language_info": {
      "name": "python"
    }
  },
  "cells": [
    {
      "cell_type": "code",
      "execution_count": null,
      "metadata": {
        "colab": {
          "base_uri": "https://localhost:8080/"
        },
        "id": "cuRssgejEpTI",
        "outputId": "6e1ff5db-352b-4cbf-fa0a-c6a6e585b640"
      },
      "outputs": [
        {
          "output_type": "stream",
          "name": "stderr",
          "text": [
            "WARNING:praw:It appears that you are using PRAW in an asynchronous environment.\n",
            "It is strongly recommended to use Async PRAW: https://asyncpraw.readthedocs.io.\n",
            "See https://praw.readthedocs.io/en/latest/getting_started/multiple_instances.html#discord-bots-and-asynchronous-environments for more info.\n",
            "\n"
          ]
        }
      ],
      "source": [
        "import praw\n",
        "\n",
        "# Initialize the Reddit client\n",
        "reddit = praw.Reddit(\n",
        "    client_id=\"K3xWHKBQ3EyJ9w4hklRCcA\",\n",
        "    client_secret=\"N07feMoiN-Q4KQVZVf_pWZq_RQQBIA\",\n",
        "    user_agent=\"CodeEXP\",\n",
        ")\n",
        "\n",
        "# Fetch posts from a subreddit\n",
        "subreddit = reddit.subreddit(\"SamsungS24\")\n",
        "posts = [post.title for post in subreddit.hot(limit=100)]\n"
      ]
    },
    {
      "cell_type": "code",
      "source": [
        "import re\n",
        "from nltk.corpus import stopwords\n",
        "\n",
        "def clean_text(text):\n",
        "    text = re.sub(r\"http\\S+|www\\S+|@\\S+\", \"\", text)  # Remove URLs and mentions\n",
        "    text = re.sub(r\"[^a-zA-Z\\s]\", \"\", text)         # Remove special characters\n",
        "    text = text.lower()                             # Convert to lowercase\n",
        "    words = text.split()\n",
        "    stop_words = set(stopwords.words(\"english\"))\n",
        "    return \" \".join([word for word in words if word not in stop_words])\n"
      ],
      "metadata": {
        "id": "Zeijm2FYLWYj"
      },
      "execution_count": null,
      "outputs": []
    },
    {
      "cell_type": "code",
      "source": [
        "from nltk.sentiment import SentimentIntensityAnalyzer\n",
        "\n",
        "sia = SentimentIntensityAnalyzer()\n",
        "sentiments = [{\"post\": post, \"sentiment\": sia.polarity_scores(post)} for post in posts]\n"
      ],
      "metadata": {
        "id": "YeBR05mCMGQJ"
      },
      "execution_count": null,
      "outputs": []
    },
    {
      "cell_type": "code",
      "source": [
        "import nltk\n",
        "nltk.download('vader_lexicon')"
      ],
      "metadata": {
        "colab": {
          "base_uri": "https://localhost:8080/"
        },
        "id": "agC4CpOCMoKi",
        "outputId": "ff62d969-aac5-4373-af2c-33665bca6029"
      },
      "execution_count": null,
      "outputs": [
        {
          "output_type": "stream",
          "name": "stderr",
          "text": [
            "[nltk_data] Downloading package vader_lexicon to /root/nltk_data...\n",
            "[nltk_data]   Package vader_lexicon is already up-to-date!\n"
          ]
        },
        {
          "output_type": "execute_result",
          "data": {
            "text/plain": [
              "True"
            ]
          },
          "metadata": {},
          "execution_count": 18
        }
      ]
    },
    {
      "cell_type": "code",
      "source": [],
      "metadata": {
        "id": "gb8mU_dNODRw"
      },
      "execution_count": null,
      "outputs": []
    },
    {
      "cell_type": "code",
      "source": [
        "for sent in sentiments"
      ],
      "metadata": {
        "colab": {
          "base_uri": "https://localhost:8080/",
          "height": 106
        },
        "id": "OPy9O9DBNtoj",
        "outputId": "831979e2-38ef-446c-9a88-a7002e8cc100"
      },
      "execution_count": null,
      "outputs": [
        {
          "output_type": "error",
          "ename": "SyntaxError",
          "evalue": "expected ':' (<ipython-input-19-d83fa3dc11a6>, line 1)",
          "traceback": [
            "\u001b[0;36m  File \u001b[0;32m\"<ipython-input-19-d83fa3dc11a6>\"\u001b[0;36m, line \u001b[0;32m1\u001b[0m\n\u001b[0;31m    for sent in sentiments\u001b[0m\n\u001b[0m                          ^\u001b[0m\n\u001b[0;31mSyntaxError\u001b[0m\u001b[0;31m:\u001b[0m expected ':'\n"
          ]
        }
      ]
    },
    {
      "cell_type": "code",
      "source": [
        "import matplotlib.pyplot as plt\n",
        "\n",
        "positive = sum(1 for s in sentiments if s[\"sentiment\"][\"compound\"] > 0)\n",
        "neutral = sum(1 for s in sentiments if s[\"sentiment\"][\"compound\"] == 0)\n",
        "negative = sum(1 for s in sentiments if s[\"sentiment\"][\"compound\"] < 0)\n",
        "\n",
        "labels = [\"Positive\", \"Neutral\", \"Negative\"]\n",
        "sizes = [positive, neutral, negative]\n",
        "plt.pie(sizes, labels=labels, autopct=\"%1.1f%%\", startangle=140)\n",
        "plt.title(\"Sentiment Distribution of Reddit Posts\",)\n",
        "plt.show()\n"
      ],
      "metadata": {
        "colab": {
          "base_uri": "https://localhost:8080/",
          "height": 428
        },
        "id": "pqSHxnPcMzft",
        "outputId": "33c2d398-0b95-48e3-bb1c-5538ec8d7875"
      },
      "execution_count": null,
      "outputs": [
        {
          "output_type": "display_data",
          "data": {
            "text/plain": [
              "<Figure size 640x480 with 1 Axes>"
            ],
            "image/png": "[encoded data removed]"
          },
          "metadata": {}
        }
      ]
    }
  ]
}